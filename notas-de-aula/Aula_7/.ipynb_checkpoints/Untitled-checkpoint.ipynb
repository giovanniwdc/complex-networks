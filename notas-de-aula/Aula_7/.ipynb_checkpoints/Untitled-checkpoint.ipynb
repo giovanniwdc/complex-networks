{
 "cells": [
  {
   "cell_type": "markdown",
   "id": "9a5153f2-c767-4bba-90be-0f4dcc96c334",
   "metadata": {},
   "source": [
    "# **Questionário - Modelos sem escala**"
   ]
  },
  {
   "cell_type": "markdown",
   "id": "84c2ea68-36a9-4ebe-9d0f-fe669d835314",
   "metadata": {},
   "source": [
    "### **Problema-1:** Calcule a média do coeficiente aglomeração e segundo momento do grau para uma rede BA com grau médio igual a 10 e N=1000."
   ]
  },
  {
   "cell_type": "code",
   "execution_count": 86,
   "id": "9208f220-637f-48e8-8e0d-89beb5752447",
   "metadata": {},
   "outputs": [],
   "source": [
    "N = 1000\n",
    "\n",
    "av_degree = 8\n",
    "m = int(av_degree/2)\n",
    "\n",
    "G = nx.barabasi_albert_graph(N, m, seed = 42)"
   ]
  },
  {
   "cell_type": "code",
   "execution_count": 87,
   "id": "9c66c8de-b4cc-4569-9ccc-a3c844d23d98",
   "metadata": {},
   "outputs": [],
   "source": [
    "G_mm2 = momment_of_degree_distribution(G, 2)\n",
    "G_cc = nx.average_clustering(G)"
   ]
  },
  {
   "cell_type": "code",
   "execution_count": 88,
   "id": "ddf75f16-0203-4102-a19a-f2bdb623dbf0",
   "metadata": {},
   "outputs": [
    {
     "name": "stdout",
     "output_type": "stream",
     "text": [
      "Coeficiente de aglomeração médio: 0.032\n",
      "Segundo momento: 126.21\n"
     ]
    }
   ],
   "source": [
    "print(f'Coeficiente de aglomeração médio: {G_cc:.3f}')\n",
    "print(f'Segundo momento: {G_mm2:.2f}')"
   ]
  },
  {
   "cell_type": "markdown",
   "id": "41b30ab4-601d-4e8c-a58f-f80f852a693f",
   "metadata": {},
   "source": [
    "### **Problema-2:** Considere uma rede aleatória (Erdos-Renyi) e uma rede BA com N=1000 vértices e grau médio 10. Qual o valor da entropia de Shannon da distribuição do grau para essas redes?"
   ]
  },
  {
   "cell_type": "code",
   "execution_count": 91,
   "id": "76cf024f-d920-426f-ac69-8a1bdf737fa7",
   "metadata": {},
   "outputs": [],
   "source": [
    "N = 1000\n",
    "\n",
    "av_degree = 10\n",
    "p = av_degree/(N - 1)\n",
    "\n",
    "m = int(av_degree/2)"
   ]
  },
  {
   "cell_type": "code",
   "execution_count": 93,
   "id": "6eba59a7-b704-4350-8bbe-5e6b20aed206",
   "metadata": {},
   "outputs": [],
   "source": [
    "GER = nx.gnp_random_graph(N, p, seed = 42, directed = False)\n",
    "GBA = nx.barabasi_albert_graph(N, m, seed = 42)"
   ]
  },
  {
   "cell_type": "code",
   "execution_count": 94,
   "id": "41ade2d0-9512-4626-8f79-0991a841f4d3",
   "metadata": {},
   "outputs": [],
   "source": [
    "GER_degree_entropy = shannon_entropy(GER)\n",
    "GBA_degree_entropy = shannon_entropy(GBA)"
   ]
  },
  {
   "cell_type": "code",
   "execution_count": 95,
   "id": "5d4a7573-1bea-4900-9714-0a496adf7a60",
   "metadata": {},
   "outputs": [
    {
     "name": "stdout",
     "output_type": "stream",
     "text": [
      "A distribuição do grau da rede Erdos-Renyi: 3.638\n",
      "A distribuição do grau da rede Barabási-Albert: 3.626\n"
     ]
    }
   ],
   "source": [
    "print(f'A distribuição do grau da rede Erdos-Renyi: {GER_degree_entropy:.3f}')\n",
    "print(f'A distribuição do grau da rede Barabási-Albert: {GBA_degree_entropy:.3f}')"
   ]
  },
  {
   "cell_type": "markdown",
   "id": "ac60bf78-886f-4e4f-bd62-1076fece5357",
   "metadata": {},
   "source": [
    "### **Problema-3:** Considere o modelo de Barabási-Albert com N=1000 e grau médio igual a 10. Calcule o coeficiente de correlação de Pearson (rho) entre o grau e a medida eigenvector centrality. O que esse valor indica?"
   ]
  },
  {
   "cell_type": "code",
   "execution_count": 86,
   "id": "2e7d9cdd-411b-4e70-a69b-4fdeda9f1df7",
   "metadata": {},
   "outputs": [],
   "source": [
    "N = 1000\n",
    "\n",
    "av_degree = 8\n",
    "m = int(av_degree/2)\n",
    "\n",
    "G = nx.barabasi_albert_graph(N, m, seed = 42)"
   ]
  },
  {
   "cell_type": "code",
   "execution_count": 104,
   "id": "62b7fbb2-ff99-4382-916c-7505d327f0cd",
   "metadata": {},
   "outputs": [],
   "source": [
    "vk = np.array(list(dict(G.degree()).values()))\n",
    "eig_centrality = np.array(list(dict(nx.eigenvector_centrality(G, max_iter = 1000)).values()))"
   ]
  },
  {
   "cell_type": "code",
   "execution_count": 109,
   "id": "18ae39ee-e290-40ce-9b0d-2bd2bee56ad4",
   "metadata": {},
   "outputs": [
    {
     "name": "stdout",
     "output_type": "stream",
     "text": [
      "Correlação de Pearson entre o grau e a medida de eigenvector centrality: 0.93\n"
     ]
    }
   ],
   "source": [
    "pearson = np.corrcoef(vk, eig_centrality)[0, 1]\n",
    "\n",
    "print(f'Correlação de Pearson entre o grau e a medida de eigenvector centrality: {pearson:.2f}')"
   ]
  },
  {
   "cell_type": "markdown",
   "id": "a9e118f8-c8d3-4f36-8054-8c16bd1c94ea",
   "metadata": {},
   "source": [
    "### **Problema-4:** Calcule a correlação entre a medida betweeness centrality e o grau para uma rede BA. Considere N=500 e grau médio 10."
   ]
  },
  {
   "cell_type": "code",
   "execution_count": 110,
   "id": "b57f7195-ecd2-4ec6-a960-3b2ea98e4e23",
   "metadata": {},
   "outputs": [],
   "source": [
    "N = 500\n",
    "\n",
    "av_degree = 10\n",
    "m = int(av_degree/2)\n",
    "\n",
    "G = nx.barabasi_albert_graph(N, m, seed = 42)"
   ]
  },
  {
   "cell_type": "code",
   "execution_count": 111,
   "id": "5901e1ee-5385-4534-b208-6e78394a8303",
   "metadata": {},
   "outputs": [],
   "source": [
    "vk = np.array(list(dict(G.degree()).values()))\n",
    "betweeness_centrality = np.array(list(dict(nx.betweenness_centrality(G)).values()))"
   ]
  },
  {
   "cell_type": "code",
   "execution_count": 113,
   "id": "e6142ff2-6d6c-41e8-bcff-1aac3c8ca944",
   "metadata": {},
   "outputs": [
    {
     "name": "stdout",
     "output_type": "stream",
     "text": [
      "Correlação de Pearson entre o grau e a medida de betweeness centrality: 0.96\n"
     ]
    }
   ],
   "source": [
    "pearson = np.corrcoef(vk, betweeness_centrality)[0, 1]\n",
    "\n",
    "print(f'Correlação de Pearson entre o grau e a medida de betweeness centrality: {pearson:.2f}')"
   ]
  },
  {
   "cell_type": "markdown",
   "id": "6045b3e3-2795-4469-a843-98009dbf6aa1",
   "metadata": {},
   "source": [
    "### **Problema-5:** Calcule o segundo momento do grau para o modelo de configuração com a=3 (coeficiente da lei de potência (Zipf)). Considere N=500 e o valor mais próximo, pois os valores podem variar de uma simulação para outra."
   ]
  },
  {
   "cell_type": "code",
   "execution_count": 83,
   "id": "1f9551f7-8baa-4dae-8164-bcb08ad8c19e",
   "metadata": {},
   "outputs": [],
   "source": [
    "N = 1000\n",
    "a = 3\n",
    "\n",
    "seed = 42"
   ]
  },
  {
   "cell_type": "code",
   "execution_count": 84,
   "id": "303d18ca-9124-451c-9563-3afa18cd68e9",
   "metadata": {},
   "outputs": [],
   "source": [
    "np.random.seed(seed)\n",
    "seq = np.random.zipf(a, N) "
   ]
  },
  {
   "cell_type": "code",
   "execution_count": 85,
   "id": "2b80e1f9-df73-412b-8048-2e47a565196b",
   "metadata": {},
   "outputs": [],
   "source": [
    "if(sum(seq)%2 != 0):\n",
    "    \n",
    "    pos = np.random.randint(0, len(seq))\n",
    "    seq[pos] = seq[pos]+ 1"
   ]
  },
  {
   "cell_type": "code",
   "execution_count": 86,
   "id": "c1ca4c3f-4a11-48ea-b455-71ad9bfd8d6d",
   "metadata": {},
   "outputs": [],
   "source": [
    "G = nx.configuration_model(seq, seed = seed)\n",
    "Gcc = sorted(nx.connected_components(G), key=len, reverse=True)\n",
    "G = G.subgraph(Gcc[0])"
   ]
  },
  {
   "cell_type": "code",
   "execution_count": 87,
   "id": "2a89ccdd-1d39-468e-b6b7-5738854eacc7",
   "metadata": {},
   "outputs": [],
   "source": [
    "G_mm2 = momment_of_degree_distribution(G, 2)"
   ]
  },
  {
   "cell_type": "code",
   "execution_count": 88,
   "id": "09bdff5b-f51a-4a7b-ad8f-6ab5234013cd",
   "metadata": {},
   "outputs": [
    {
     "name": "stdout",
     "output_type": "stream",
     "text": [
      "Segundo momento: 15.48\n"
     ]
    }
   ],
   "source": [
    "print(f'Segundo momento: {G_mm2:.2f}')"
   ]
  },
  {
   "cell_type": "markdown",
   "id": "f5274c5d-a129-4968-8259-880337419e9b",
   "metadata": {},
   "source": [
    "## **Bibliotecas**"
   ]
  },
  {
   "cell_type": "code",
   "execution_count": 1,
   "id": "3c98a5c1-426e-4995-b420-853642d1f5ae",
   "metadata": {},
   "outputs": [],
   "source": [
    "import numpy as np\n",
    "from numpy import linalg as al"
   ]
  },
  {
   "cell_type": "code",
   "execution_count": 2,
   "id": "3875b30d-c56d-4093-af56-c24e056c9826",
   "metadata": {},
   "outputs": [],
   "source": [
    "import matplotlib.pyplot as plt"
   ]
  },
  {
   "cell_type": "code",
   "execution_count": 3,
   "id": "7fe59be3-46aa-43aa-bb71-3f7a5713648c",
   "metadata": {},
   "outputs": [],
   "source": [
    "import networkx as nx"
   ]
  },
  {
   "cell_type": "code",
   "execution_count": 4,
   "id": "3227ee78-f920-49e1-a395-686c9cf90899",
   "metadata": {},
   "outputs": [],
   "source": [
    "from scipy.stats import pearsonr, spearmanr"
   ]
  },
  {
   "cell_type": "markdown",
   "id": "e2da572a-c726-459c-9e79-36a64f2bbb86",
   "metadata": {},
   "source": [
    "## **Funções**"
   ]
  },
  {
   "cell_type": "code",
   "execution_count": 6,
   "id": "4d1ae723-4b00-4a41-a0fd-10292a2e1e40",
   "metadata": {},
   "outputs": [],
   "source": [
    "def shannon_entropy(G):\n",
    "    \n",
    "    k, Pk = degree_distribution(G)\n",
    "    \n",
    "    H = 0\n",
    "    \n",
    "    for p in Pk:\n",
    "        \n",
    "        if p > 0:\n",
    "            \n",
    "            H -= p*np.log2(p)\n",
    "    \n",
    "    return H"
   ]
  },
  {
   "cell_type": "code",
   "execution_count": 7,
   "id": "b8c66c18-98fa-4a83-9c48-37fc2a15e1dc",
   "metadata": {},
   "outputs": [],
   "source": [
    "def momment_of_degree_distribution(G, m):\n",
    "    \n",
    "    k, Pk = degree_distribution(G)\n",
    "    \n",
    "    M = sum((k**m)*Pk)\n",
    "    \n",
    "    return M"
   ]
  },
  {
   "cell_type": "code",
   "execution_count": 8,
   "id": "c89ac685-9089-4b63-b21e-2b9050c23c55",
   "metadata": {},
   "outputs": [],
   "source": [
    "def degree_distribution(G):\n",
    "    \n",
    "    vk = np.array(list(dict(G.degree()).values()))\n",
    "    \n",
    "    maxk = vk.max()\n",
    "    minK = vk.min()\n",
    "    \n",
    "    kvalues = np.arange(maxk + 1)\n",
    "    Pk = np.zeros(maxk + 1)\n",
    "    \n",
    "    for k in vk:\n",
    "        \n",
    "        Pk[k] += 1\n",
    "        \n",
    "    Pk = Pk/Pk.sum()\n",
    "    \n",
    "    return kvalues, Pk"
   ]
  },
  {
   "cell_type": "markdown",
   "id": "0a3163ca-2d58-412c-8095-7086b7656717",
   "metadata": {},
   "source": [
    "## **Constantes**"
   ]
  },
  {
   "cell_type": "code",
   "execution_count": 10,
   "id": "405ffa64-7a81-4d38-acc7-6317ba43705a",
   "metadata": {},
   "outputs": [],
   "source": [
    "colors = ['b', 'g', 'r', 'c', 'm', 'y', 'k', 'w']"
   ]
  },
  {
   "cell_type": "markdown",
   "id": "e4014ffc-ba9a-48b6-831e-83381f257008",
   "metadata": {},
   "source": [
    "## **Configurações**"
   ]
  },
  {
   "cell_type": "code",
   "execution_count": 11,
   "id": "19ef8c93-3137-4dd9-8c5c-a0de642e480a",
   "metadata": {},
   "outputs": [],
   "source": [
    "%matplotlib inline"
   ]
  },
  {
   "cell_type": "code",
   "execution_count": 12,
   "id": "069ba9d6-629e-4c3b-88b8-7cbc73080f01",
   "metadata": {},
   "outputs": [],
   "source": [
    "plt.rc('axes', titlesize=18)     # fontsize of the axes title\n",
    "plt.rc('axes', labelsize=14)    # fontsize of the x and y labels\n",
    "plt.rc('xtick', labelsize=13)    # fontsize of the tick labels\n",
    "plt.rc('ytick', labelsize=13)    # fontsize of the tick labels\n",
    "plt.rc('legend', fontsize=13)    # legend fontsize\n",
    "plt.rc('font', size=13)          # controls default text sizes\n",
    "plt.rc('figure', figsize = (8,8)) # Set the figure size "
   ]
  },
  {
   "cell_type": "code",
   "execution_count": null,
   "id": "64aff04e-4f0d-4c07-b20d-a17bbbe2c6e5",
   "metadata": {},
   "outputs": [],
   "source": []
  }
 ],
 "metadata": {
  "kernelspec": {
   "display_name": "Python 3",
   "language": "python",
   "name": "python3"
  },
  "language_info": {
   "codemirror_mode": {
    "name": "ipython",
    "version": 3
   },
   "file_extension": ".py",
   "mimetype": "text/x-python",
   "name": "python",
   "nbconvert_exporter": "python",
   "pygments_lexer": "ipython3",
   "version": "3.8.8"
  }
 },
 "nbformat": 4,
 "nbformat_minor": 5
}
