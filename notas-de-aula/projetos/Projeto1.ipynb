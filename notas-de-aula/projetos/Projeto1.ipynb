{
 "cells": [
  {
   "cell_type": "markdown",
   "id": "static-assessment",
   "metadata": {},
   "source": [
    "# **Resolução do Questionário 1**"
   ]
  },
  {
   "cell_type": "markdown",
   "id": "understanding-corpus",
   "metadata": {},
   "source": [
    "## Bibliotecas"
   ]
  },
  {
   "cell_type": "code",
   "execution_count": 31,
   "id": "awful-recall",
   "metadata": {},
   "outputs": [],
   "source": [
    "import numpy as np"
   ]
  },
  {
   "cell_type": "code",
   "execution_count": 32,
   "id": "seven-contract",
   "metadata": {},
   "outputs": [],
   "source": [
    "import networkx as nx"
   ]
  },
  {
   "cell_type": "markdown",
   "id": "decreased-covering",
   "metadata": {},
   "source": [
    "## Funções Auxiliares "
   ]
  },
  {
   "cell_type": "code",
   "execution_count": 33,
   "id": "framed-denver",
   "metadata": {},
   "outputs": [],
   "source": [
    "def degree_distribution(G):\n",
    "    \n",
    "    vk = np.array(list(dict(G.degree()).values()))\n",
    "    \n",
    "    maxk = vk.max()\n",
    "    mink = vk.min()\n",
    "    \n",
    "    kvalues = np.arange(maxk + 1)\n",
    "    \n",
    "    Pk = np.zeros(maxk + 1)\n",
    "    \n",
    "    for k in vk:\n",
    "        \n",
    "        Pk[k] += 1\n",
    "        \n",
    "    Pk = Pk/Pk.sum()\n",
    "    \n",
    "    return kvalues, Pk"
   ]
  },
  {
   "cell_type": "code",
   "execution_count": 34,
   "id": "united-corruption",
   "metadata": {},
   "outputs": [],
   "source": [
    "def momment_of_degree_distribution(G, m):\n",
    "    \n",
    "    K, Pk = degree_distribution(G)\n",
    "    \n",
    "    M = np.sum((K**m)*Pk)\n",
    "    \n",
    "    return M"
   ]
  },
  {
   "cell_type": "code",
   "execution_count": 35,
   "id": "collective-ground",
   "metadata": {},
   "outputs": [],
   "source": [
    "def complexity(G):\n",
    "    \n",
    "    m1 = momment_of_degree_distribution(G, 1)\n",
    "    m2 = momment_of_degree_distribution(G, 2)\n",
    "    \n",
    "    c = m2/m1\n",
    "    \n",
    "    return c"
   ]
  },
  {
   "cell_type": "code",
   "execution_count": 36,
   "id": "linear-carrier",
   "metadata": {},
   "outputs": [],
   "source": [
    "def shannon_entropy(G):\n",
    "    \n",
    "    k, Pk = degree_distribution(G)\n",
    "    \n",
    "    H = 0 \n",
    "    \n",
    "    for p in Pk:\n",
    "        \n",
    "        if p > 0 :\n",
    "            H -= p*np.log2(p)\n",
    "    \n",
    "    return H"
   ]
  },
  {
   "cell_type": "markdown",
   "id": "oriented-firmware",
   "metadata": {},
   "source": [
    "## Lendo e criando os gráfos"
   ]
  },
  {
   "cell_type": "code",
   "execution_count": 38,
   "id": "shaped-india",
   "metadata": {},
   "outputs": [],
   "source": [
    "lesmis = nx.read_edgelist('../data/lesmis.txt', nodetype = int, data = (('weight', float),))\n",
    "power_grid = nx.read_edgelist('../data/powergrid.txt', nodetype = int)\n",
    "us_air = nx.read_edgelist('../data/usairport.txt', nodetype = int, data = (('weight', float),))\n",
    "euro_road = nx.read_edgelist('../data/euroroad.txt', nodetype = int)"
   ]
  },
  {
   "cell_type": "markdown",
   "id": "unexpected-brief",
   "metadata": {},
   "source": [
    "## 1 - Para a base lesmis, calcule o terceiro e quarto momentos da distribuição do grau."
   ]
  },
  {
   "cell_type": "code",
   "execution_count": 39,
   "id": "stunning-yacht",
   "metadata": {},
   "outputs": [
    {
     "name": "stdout",
     "output_type": "stream",
     "text": [
      "Terceiro e quarto momentos da distribuição do grau da rede Lesmis:\n",
      " K_3: = 1408.03\n",
      " K_4: = 33592.73\n"
     ]
    }
   ],
   "source": [
    "lesmis_k3 = momment_of_degree_distribution(lesmis, 3)\n",
    "lesmis_k4 = momment_of_degree_distribution(lesmis, 4)\n",
    "\n",
    "print(f'Terceiro e quarto momentos da distribuição do grau da rede Lesmis:\\n K_3: = {lesmis_k3:.2f}\\n K_4: = {lesmis_k4:.2f}')"
   ]
  },
  {
   "cell_type": "markdown",
   "id": "sized-multimedia",
   "metadata": {},
   "source": [
    "## 2 - Calcule o coeficiente de complexidade da power grid."
   ]
  },
  {
   "cell_type": "code",
   "execution_count": 40,
   "id": "wireless-indiana",
   "metadata": {},
   "outputs": [
    {
     "name": "stdout",
     "output_type": "stream",
     "text": [
      "Coeficiente de complexidade da power grid: 3.87\n"
     ]
    }
   ],
   "source": [
    "power_grid_cp = complexity(power_grid)\n",
    "\n",
    "print(f'Coeficiente de complexidade da power grid: {power_grid_cp:.2f}')"
   ]
  },
  {
   "cell_type": "markdown",
   "id": "peripheral-helicopter",
   "metadata": {},
   "source": [
    "## 3 - Calcule a entropia de Shannon da rede Euro road."
   ]
  },
  {
   "cell_type": "code",
   "execution_count": 41,
   "id": "fitted-module",
   "metadata": {},
   "outputs": [
    {
     "name": "stdout",
     "output_type": "stream",
     "text": [
      "Entropia de Shannon da rede Euro road: 2.00\n"
     ]
    }
   ],
   "source": [
    "euro_road_H = shannon_entropy(euro_road)\n",
    "\n",
    "print(f'Entropia de Shannon da rede Euro road: {euro_road_H:.2f}')"
   ]
  },
  {
   "cell_type": "markdown",
   "id": "virtual-findings",
   "metadata": {},
   "source": [
    "## 4 - Para a rede de aeroportos dos Estados Unidos, obtenha: (a)transitivity e (b) the average clustering coefficient."
   ]
  },
  {
   "cell_type": "code",
   "execution_count": 42,
   "id": "casual-connectivity",
   "metadata": {},
   "outputs": [
    {
     "name": "stdout",
     "output_type": "stream",
     "text": [
      "Transitivity = 0.38\n"
     ]
    }
   ],
   "source": [
    "us_air_CC = nx.transitivity(us_air)\n",
    "\n",
    "print(f'Transitivity = {us_air_CC:.2f}')"
   ]
  },
  {
   "cell_type": "code",
   "execution_count": 43,
   "id": "floral-frontier",
   "metadata": {},
   "outputs": [
    {
     "name": "stdout",
     "output_type": "stream",
     "text": [
      "Avarage clustering: 0.50\n"
     ]
    }
   ],
   "source": [
    "us_air_avc = nx.average_clustering(us_air)\n",
    "\n",
    "print(f'Avarage clustering: {us_air_avc:.2f}')"
   ]
  },
  {
   "cell_type": "markdown",
   "id": "digital-triple",
   "metadata": {},
   "source": [
    "## 5 - Calcule o coeficiente de complexidade e a entropia de Shannon para a rede US airport."
   ]
  },
  {
   "cell_type": "code",
   "execution_count": 44,
   "id": "functional-messaging",
   "metadata": {},
   "outputs": [
    {
     "name": "stdout",
     "output_type": "stream",
     "text": [
      "Coeficiente de complexidade da US airport: 112.22\n"
     ]
    }
   ],
   "source": [
    "us_air_cp = complexity(us_air)\n",
    "\n",
    "print(f'Coeficiente de complexidade da US airport: {us_air_cp:.2f}')"
   ]
  },
  {
   "cell_type": "code",
   "execution_count": 45,
   "id": "guilty-stream",
   "metadata": {},
   "outputs": [
    {
     "name": "stdout",
     "output_type": "stream",
     "text": [
      "Entropia de Shannon da rede US airport: 4.99\n"
     ]
    }
   ],
   "source": [
    "us_air_H = shannon_entropy(us_air)\n",
    "\n",
    "print(f'Entropia de Shannon da rede US airport: {us_air_H:.2f}')"
   ]
  }
 ],
 "metadata": {
  "kernelspec": {
   "display_name": "Python 3",
   "language": "python",
   "name": "python3"
  },
  "language_info": {
   "codemirror_mode": {
    "name": "ipython",
    "version": 3
   },
   "file_extension": ".py",
   "mimetype": "text/x-python",
   "name": "python",
   "nbconvert_exporter": "python",
   "pygments_lexer": "ipython3",
   "version": "3.8.8"
  }
 },
 "nbformat": 4,
 "nbformat_minor": 5
}
