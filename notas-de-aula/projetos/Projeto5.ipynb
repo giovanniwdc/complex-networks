{
 "cells": [
  {
   "cell_type": "markdown",
   "id": "alternate-circuit",
   "metadata": {},
   "source": [
    "# **Questionário**"
   ]
  },
  {
   "cell_type": "markdown",
   "id": "musical-wales",
   "metadata": {},
   "source": [
    "## **Modelos de grafos aleatórios: Erdos-Renyi e Small-Worlds de Watts e Strogatz**"
   ]
  },
  {
   "cell_type": "markdown",
   "id": "tutorial-notebook",
   "metadata": {},
   "source": [
    " <p style=\"font-size: 20px;\" ><b style=\"color:Tomato;\">OBS: </b> Sempre aproxime para uma casa decimal e considere o valor mais próxima da sua solução, pois\n",
    "pode haver pequenas variações devido à natureza estocástica dos modelos. </p> "
   ]
  },
  {
   "cell_type": "markdown",
   "id": "stable-matrix",
   "metadata": {},
   "source": [
    "## **1 -** Gere um grafo aleatório com N=1000 e p = 0.1. Qual o valor do grau médio, segundo momento do grau e coeficiente de aglormeração médio (average clustering coefficient)?"
   ]
  },
  {
   "cell_type": "code",
   "execution_count": 11,
   "id": "banner-lightweight",
   "metadata": {},
   "outputs": [],
   "source": [
    "N = 1000\n",
    "\n",
    "p = 0.1\n",
    "av_degree = 0.1*(N - 1) \n",
    "\n",
    "GER = nx.gnp_random_graph(N, p, seed = 42, directed = False)"
   ]
  },
  {
   "cell_type": "code",
   "execution_count": 12,
   "id": "operating-candidate",
   "metadata": {},
   "outputs": [],
   "source": [
    "GER_N = len(GER.nodes)\n",
    "GER_M = len(GER.edges)\n",
    "\n",
    "GER_mm1 =  momment_of_degree_distribution(GER, 1)\n",
    "GER_mm2 =  momment_of_degree_distribution(GER, 2)\n",
    "\n",
    "GER_cc = nx.average_clustering(GER)"
   ]
  },
  {
   "cell_type": "code",
   "execution_count": 13,
   "id": "gentle-governor",
   "metadata": {},
   "outputs": [
    {
     "name": "stdout",
     "output_type": "stream",
     "text": [
      "Números de nós: 1000\n",
      "Número de conexões: 49929\n",
      "\n",
      "\n",
      "Grau médio: 99.9\n",
      "Segundo momento: 10062.9\n",
      "\n",
      "\n",
      "Coeficiente de aglomeração médio: 0.1\n"
     ]
    }
   ],
   "source": [
    "print(f'Números de nós: {GER_N}')\n",
    "print(f'Número de conexões: {GER_M}')\n",
    "\n",
    "print('\\n')\n",
    "\n",
    "print(f'Grau médio: {GER_mm1:.1f}')\n",
    "print(f'Segundo momento: {GER_mm2:.1f}')\n",
    "\n",
    "print('\\n')\n",
    "\n",
    "print(f'Coeficiente de aglomeração médio: {GER_cc:.1f}')"
   ]
  },
  {
   "cell_type": "markdown",
   "id": "coral-coaching",
   "metadata": {},
   "source": [
    "## **2 -**  Gere um small-world com N=1000, grau médio igual 10 e p = 0.1. Qual o valor do grau médio, segundo momento do grau e coeficiente de aglormeração médio (average clustering coefficient)?"
   ]
  },
  {
   "cell_type": "code",
   "execution_count": 14,
   "id": "strong-recommendation",
   "metadata": {},
   "outputs": [],
   "source": [
    "N = 1000\n",
    "\n",
    "k = 10\n",
    "p = 0.1\n",
    "\n",
    "GWS = nx.watts_strogatz_graph(N, k, p, seed = 42)"
   ]
  },
  {
   "cell_type": "code",
   "execution_count": 15,
   "id": "minus-player",
   "metadata": {},
   "outputs": [],
   "source": [
    "GWS_N = len(GWS.nodes)\n",
    "GWS_M = len(GWS.edges)\n",
    "\n",
    "GWS_mm1 =  momment_of_degree_distribution(GWS, 1)\n",
    "GWS_mm2 =  momment_of_degree_distribution(GWS, 2)\n",
    "\n",
    "GWS_cc = nx.average_clustering(GWS)"
   ]
  },
  {
   "cell_type": "code",
   "execution_count": 16,
   "id": "independent-facing",
   "metadata": {},
   "outputs": [
    {
     "name": "stdout",
     "output_type": "stream",
     "text": [
      "Números de nós: 1000\n",
      "Número de conexões: 5000\n",
      "\n",
      "\n",
      "Grau médio: 10.0\n",
      "Segundo momento: 100.9\n",
      "\n",
      "\n",
      "Coeficiente de aglomeração médio: 0.5\n"
     ]
    }
   ],
   "source": [
    "print(f'Números de nós: {GWS_N}')\n",
    "print(f'Número de conexões: {GWS_M}')\n",
    "\n",
    "print('\\n')\n",
    "\n",
    "print(f'Grau médio: {GWS_mm1:.1f}')\n",
    "print(f'Segundo momento: {GWS_mm2:.1f}')\n",
    "\n",
    "print('\\n')\n",
    "\n",
    "print(f'Coeficiente de aglomeração médio: {GWS_cc:.1f}')"
   ]
  },
  {
   "cell_type": "markdown",
   "id": "ahead-butler",
   "metadata": {},
   "source": [
    "## **3 -** Considere uma rede aleatória (Erdos-Renyi) com N=1000 vértices. Qual o valor da entropia de Shannon do grau para 〈 𝑘 〉 = 5, 〈 𝑘 〉 = 10,〈 𝑘 〉 = 50."
   ]
  },
  {
   "cell_type": "code",
   "execution_count": 17,
   "id": "tested-february",
   "metadata": {},
   "outputs": [],
   "source": [
    "N = 1000\n",
    "\n",
    "av_degrees = [5, 10, 50] \n",
    "\n",
    "ger_k = []\n",
    "\n",
    "for k in av_degrees:\n",
    "    \n",
    "    p = k/(N - 1)\n",
    "    \n",
    "    ger_k.append(nx.gnp_random_graph(N, p, seed = 42, directed = False))"
   ]
  },
  {
   "cell_type": "code",
   "execution_count": 18,
   "id": "identical-flooring",
   "metadata": {},
   "outputs": [
    {
     "name": "stdout",
     "output_type": "stream",
     "text": [
      "Entropia de Shannon para K = 5: 3.2\n",
      "Entropia de Shannon para K = 10: 3.6\n",
      "Entropia de Shannon para K = 50: 4.7\n"
     ]
    }
   ],
   "source": [
    "ger_entropy = [shannon_entropy(G) for G in ger_k]\n",
    "\n",
    "_ = [print(f'Entropia de Shannon para K = {av_degrees[i]}: {ger_entropy[i]:.1f}') for i in np.arange(3)]"
   ]
  },
  {
   "cell_type": "markdown",
   "id": "indie-volunteer",
   "metadata": {},
   "source": [
    "## **4 -** Para o modelo small-world, calcule o valor da menor distância média (average shortest path) para p=0; p=0.01; p=0.05 e p=0.1. Considere grau médio igual a 10."
   ]
  },
  {
   "cell_type": "code",
   "execution_count": 19,
   "id": "geographic-ordinary",
   "metadata": {},
   "outputs": [],
   "source": [
    "N = 100\n",
    "\n",
    "k = 4\n",
    "ps = [0, 0.01, 0.05, 0.1]"
   ]
  },
  {
   "cell_type": "code",
   "execution_count": 20,
   "id": "instructional-supervisor",
   "metadata": {},
   "outputs": [],
   "source": [
    "sam_av_shortest_path_k = []\n",
    "\n",
    "for i in range(30):\n",
    "    gws_k = [nx.watts_strogatz_graph(N, k, p, seed = i) for p in ps]\n",
    "    av_shortest_path_k = [nx.average_shortest_path_length(G) for G in gws_k]\n",
    "    \n",
    "    sam_av_shortest_path_k.append(av_shortest_path_k)\n",
    "    \n",
    "sam_av_shortest_path_k = np.array(sam_av_shortest_path_k)"
   ]
  },
  {
   "cell_type": "code",
   "execution_count": 21,
   "id": "2e6e848b-5d05-435c-92da-ee7707901e1e",
   "metadata": {},
   "outputs": [],
   "source": [
    "av_shortest_path_k = [np.mean(sam_av_shortest_path_k[:,i]) for i in np.arange(4)]"
   ]
  },
  {
   "cell_type": "code",
   "execution_count": 22,
   "id": "honey-humor",
   "metadata": {},
   "outputs": [
    {
     "name": "stdout",
     "output_type": "stream",
     "text": [
      "O menor caminho médio para P = 0: 12.9\n",
      "O menor caminho médio para P = 0.01: 10.2\n",
      "O menor caminho médio para P = 0.05: 6.2\n",
      "O menor caminho médio para P = 0.1: 4.9\n"
     ]
    }
   ],
   "source": [
    "_ = [print(f'O menor caminho médio para P = {ps[i]}: {av_shortest_path_k[i]:.1f}') for i in np.arange(4)]"
   ]
  },
  {
   "cell_type": "markdown",
   "id": "neutral-article",
   "metadata": {},
   "source": [
    "## **5 -** Considere o modelo de Erdos-Renyi. Gere redes com grau médio igual a 5, 10 e 50 e N=1000. Qual o valor da assortatividade?"
   ]
  },
  {
   "cell_type": "code",
   "execution_count": 23,
   "id": "nearby-tunnel",
   "metadata": {},
   "outputs": [],
   "source": [
    "N = 1000\n",
    "\n",
    "av_degrees = [5, 10, 50] \n",
    "\n",
    "ger_k = []\n",
    "\n",
    "for k in av_degrees:\n",
    "    \n",
    "    p = k/(N - 1)\n",
    "    \n",
    "    ger_k.append(nx.gnp_random_graph(N, p, seed = 42, directed = False))"
   ]
  },
  {
   "cell_type": "code",
   "execution_count": 24,
   "id": "alternate-magnitude",
   "metadata": {},
   "outputs": [],
   "source": [
    "degree_assortativity_k = [nx.degree_assortativity_coefficient(G) for G in ger_k]"
   ]
  },
  {
   "cell_type": "code",
   "execution_count": 25,
   "id": "sexual-retention",
   "metadata": {},
   "outputs": [
    {
     "name": "stdout",
     "output_type": "stream",
     "text": [
      "O valor da assortatividade para k = 5: -0.01343\n",
      "O valor da assortatividade para k = 10: -0.01305\n",
      "O valor da assortatividade para k = 50: -0.00309\n"
     ]
    }
   ],
   "source": [
    "_ = [print(f'O valor da assortatividade para k = {av_degrees[i]}: {degree_assortativity_k[i]:.5f}') for i in np.arange(3)]"
   ]
  },
  {
   "cell_type": "markdown",
   "id": "choice-galaxy",
   "metadata": {},
   "source": [
    "## **6 -** Considere o modelo small-world. Gere redes com grau médio 10 e N=1000. Qual o valor da assortatividade para p=0.01; 0.05 e 0.2?"
   ]
  },
  {
   "cell_type": "code",
   "execution_count": 26,
   "id": "technical-yesterday",
   "metadata": {},
   "outputs": [],
   "source": [
    "N = 1000\n",
    "\n",
    "k = 10\n",
    "ps = [0.01, 0.05, 0.2]\n",
    "\n",
    "gws_k = [clean_graph(nx.watts_strogatz_graph(N, k, p, seed = 42)) for p in ps]"
   ]
  },
  {
   "cell_type": "code",
   "execution_count": 27,
   "id": "subtle-period",
   "metadata": {},
   "outputs": [],
   "source": [
    "degree_assortativity_k = [nx.degree_assortativity_coefficient(G) for G in gws_k]"
   ]
  },
  {
   "cell_type": "code",
   "execution_count": 28,
   "id": "appointed-ceiling",
   "metadata": {},
   "outputs": [
    {
     "name": "stdout",
     "output_type": "stream",
     "text": [
      "O valor da assortatividade para P = 0.01: 0.0\n",
      "O valor da assortatividade para P = 0.05: -0.0\n",
      "O valor da assortatividade para P = 0.2: 0.0\n"
     ]
    }
   ],
   "source": [
    "_ = [print(f'O valor da assortatividade para P = {ps[i]}: {degree_assortativity_k[i]:.1f}') for i in np.arange(3)]"
   ]
  },
  {
   "cell_type": "markdown",
   "id": "advanced-qualification",
   "metadata": {},
   "source": [
    "## **Bibliotecas**"
   ]
  },
  {
   "cell_type": "code",
   "execution_count": 29,
   "id": "formal-little",
   "metadata": {},
   "outputs": [],
   "source": [
    "import numpy as np\n",
    "from numpy import linalg as al"
   ]
  },
  {
   "cell_type": "code",
   "execution_count": 30,
   "id": "blond-conservative",
   "metadata": {},
   "outputs": [],
   "source": [
    "import matplotlib.pyplot as plt"
   ]
  },
  {
   "cell_type": "code",
   "execution_count": 31,
   "id": "competent-amount",
   "metadata": {},
   "outputs": [],
   "source": [
    "import networkx as nx"
   ]
  },
  {
   "cell_type": "markdown",
   "id": "selective-greene",
   "metadata": {},
   "source": [
    "## **Funções**"
   ]
  },
  {
   "cell_type": "code",
   "execution_count": 4,
   "id": "electoral-girlfriend",
   "metadata": {},
   "outputs": [],
   "source": [
    "def shannon_entropy(G):\n",
    "    \n",
    "    k, Pk = degree_distribution(G)\n",
    "    \n",
    "    H = 0\n",
    "    \n",
    "    for p in Pk:\n",
    "        \n",
    "        if p > 0:\n",
    "            \n",
    "            H -= p*np.log2(p)\n",
    "    \n",
    "    return H"
   ]
  },
  {
   "cell_type": "code",
   "execution_count": 5,
   "id": "better-speaking",
   "metadata": {},
   "outputs": [],
   "source": [
    "def momment_of_degree_distribution(G, m):\n",
    "    \n",
    "    k, Pk = degree_distribution(G)\n",
    "    \n",
    "    M = sum((k**m)*Pk)\n",
    "    \n",
    "    return M"
   ]
  },
  {
   "cell_type": "code",
   "execution_count": 6,
   "id": "willing-chapter",
   "metadata": {},
   "outputs": [],
   "source": [
    "def degree_distribution(G):\n",
    "    \n",
    "    vk = np.array(list(dict(G.degree()).values()))\n",
    "    \n",
    "    maxk = vk.max()\n",
    "    minK = vk.min()\n",
    "    \n",
    "    kvalues = np.arange(maxk + 1)\n",
    "    Pk = np.zeros(maxk + 1)\n",
    "    \n",
    "    for k in vk:\n",
    "        \n",
    "        Pk[k] += 1\n",
    "        \n",
    "    Pk = Pk/Pk.sum()\n",
    "    \n",
    "    return kvalues, Pk"
   ]
  },
  {
   "cell_type": "code",
   "execution_count": 7,
   "id": "congressional-jones",
   "metadata": {},
   "outputs": [],
   "source": [
    "def clean_graph(G, remove_edges = True):\n",
    "    \n",
    "    G = G.to_undirected()\n",
    "    nodes_original = G.nodes\n",
    "    \n",
    "    if remove_edges:\n",
    "        \n",
    "        G.remove_edges_from(nx.selfloop_edges(G))\n",
    "    \n",
    "    G_cc = sorted(nx.connected_components(G), key = len, reverse =True)\n",
    "    G = G.subgraph(G_cc[0])\n",
    "    G = nx.convert_node_labels_to_integers(G, first_label = 0 )\n",
    "    \n",
    "    return G"
   ]
  },
  {
   "cell_type": "markdown",
   "id": "asian-designer",
   "metadata": {},
   "source": [
    "## **Constantes**"
   ]
  },
  {
   "cell_type": "code",
   "execution_count": 8,
   "id": "clinical-riding",
   "metadata": {},
   "outputs": [],
   "source": [
    "colors = ['b', 'g', 'r', 'c', 'm', 'y', 'k', 'w']"
   ]
  },
  {
   "cell_type": "markdown",
   "id": "stone-photography",
   "metadata": {},
   "source": [
    "## **Configurações**"
   ]
  },
  {
   "cell_type": "code",
   "execution_count": 9,
   "id": "internal-consultancy",
   "metadata": {},
   "outputs": [],
   "source": [
    "%matplotlib inline"
   ]
  },
  {
   "cell_type": "code",
   "execution_count": 10,
   "id": "apparent-adventure",
   "metadata": {},
   "outputs": [],
   "source": [
    "plt.rc('axes', titlesize=18)     # fontsize of the axes title\n",
    "plt.rc('axes', labelsize=14)    # fontsize of the x and y labels\n",
    "plt.rc('xtick', labelsize=13)    # fontsize of the tick labels\n",
    "plt.rc('ytick', labelsize=13)    # fontsize of the tick labels\n",
    "plt.rc('legend', fontsize=13)    # legend fontsize\n",
    "plt.rc('font', size=13)          # controls default text sizes\n",
    "plt.rc('figure', figsize = (8,8)) # Set the figure size "
   ]
  },
  {
   "cell_type": "code",
   "execution_count": null,
   "id": "positive-bicycle",
   "metadata": {},
   "outputs": [],
   "source": []
  },
  {
   "cell_type": "code",
   "execution_count": null,
   "id": "9b2defb5-d398-4e83-a90c-bd83151ef17f",
   "metadata": {},
   "outputs": [],
   "source": []
  }
 ],
 "metadata": {
  "kernelspec": {
   "display_name": "Python 3",
   "language": "python",
   "name": "python3"
  },
  "language_info": {
   "codemirror_mode": {
    "name": "ipython",
    "version": 3
   },
   "file_extension": ".py",
   "mimetype": "text/x-python",
   "name": "python",
   "nbconvert_exporter": "python",
   "pygments_lexer": "ipython3",
   "version": "3.8.8"
  }
 },
 "nbformat": 4,
 "nbformat_minor": 5
}
